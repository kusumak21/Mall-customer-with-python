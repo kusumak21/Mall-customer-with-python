{
 "cells": [
  {
   "cell_type": "code",
   "execution_count": 1,
   "id": "a35f4651",
   "metadata": {},
   "outputs": [],
   "source": [
    "#import libraries\n",
    "import pandas as pd\n",
    "import numpy as np\n",
    "import matplotlib.pyplot as plt\n",
    "%matplotlib inline\n",
    "import seaborn as sns\n"
   ]
  },
  {
   "cell_type": "code",
   "execution_count": 2,
   "id": "acba82b1",
   "metadata": {},
   "outputs": [],
   "source": [
    "#importing dataset\n",
    "df=pd.read_csv('Mall_Customers (1).csv')"
   ]
  },
  {
   "cell_type": "code",
   "execution_count": 3,
   "id": "da4d5fc5",
   "metadata": {},
   "outputs": [
    {
     "data": {
      "text/html": [
       "<div>\n",
       "<style scoped>\n",
       "    .dataframe tbody tr th:only-of-type {\n",
       "        vertical-align: middle;\n",
       "    }\n",
       "\n",
       "    .dataframe tbody tr th {\n",
       "        vertical-align: top;\n",
       "    }\n",
       "\n",
       "    .dataframe thead th {\n",
       "        text-align: right;\n",
       "    }\n",
       "</style>\n",
       "<table border=\"1\" class=\"dataframe\">\n",
       "  <thead>\n",
       "    <tr style=\"text-align: right;\">\n",
       "      <th></th>\n",
       "      <th>CustomerID</th>\n",
       "      <th>Genre</th>\n",
       "      <th>Age</th>\n",
       "      <th>Annual Income (k$)</th>\n",
       "      <th>Spending Score (1-100)</th>\n",
       "    </tr>\n",
       "  </thead>\n",
       "  <tbody>\n",
       "    <tr>\n",
       "      <th>0</th>\n",
       "      <td>1</td>\n",
       "      <td>Male</td>\n",
       "      <td>19</td>\n",
       "      <td>15</td>\n",
       "      <td>39</td>\n",
       "    </tr>\n",
       "    <tr>\n",
       "      <th>1</th>\n",
       "      <td>2</td>\n",
       "      <td>Male</td>\n",
       "      <td>21</td>\n",
       "      <td>15</td>\n",
       "      <td>81</td>\n",
       "    </tr>\n",
       "    <tr>\n",
       "      <th>2</th>\n",
       "      <td>3</td>\n",
       "      <td>Female</td>\n",
       "      <td>20</td>\n",
       "      <td>16</td>\n",
       "      <td>6</td>\n",
       "    </tr>\n",
       "    <tr>\n",
       "      <th>3</th>\n",
       "      <td>4</td>\n",
       "      <td>Female</td>\n",
       "      <td>23</td>\n",
       "      <td>16</td>\n",
       "      <td>77</td>\n",
       "    </tr>\n",
       "    <tr>\n",
       "      <th>4</th>\n",
       "      <td>5</td>\n",
       "      <td>Female</td>\n",
       "      <td>31</td>\n",
       "      <td>17</td>\n",
       "      <td>40</td>\n",
       "    </tr>\n",
       "  </tbody>\n",
       "</table>\n",
       "</div>"
      ],
      "text/plain": [
       "   CustomerID   Genre  Age  Annual Income (k$)  Spending Score (1-100)\n",
       "0           1    Male   19                  15                      39\n",
       "1           2    Male   21                  15                      81\n",
       "2           3  Female   20                  16                       6\n",
       "3           4  Female   23                  16                      77\n",
       "4           5  Female   31                  17                      40"
      ]
     },
     "execution_count": 3,
     "metadata": {},
     "output_type": "execute_result"
    }
   ],
   "source": [
    "#top 5 records\n",
    "df.head(5)"
   ]
  },
  {
   "cell_type": "code",
   "execution_count": 4,
   "id": "b14772d8",
   "metadata": {},
   "outputs": [
    {
     "data": {
      "text/plain": [
       "(200, 5)"
      ]
     },
     "execution_count": 4,
     "metadata": {},
     "output_type": "execute_result"
    }
   ],
   "source": [
    "#size of the data\n",
    "df.shape"
   ]
  },
  {
   "cell_type": "code",
   "execution_count": 5,
   "id": "771ed700",
   "metadata": {},
   "outputs": [
    {
     "name": "stdout",
     "output_type": "stream",
     "text": [
      "<class 'pandas.core.frame.DataFrame'>\n",
      "RangeIndex: 200 entries, 0 to 199\n",
      "Data columns (total 5 columns):\n",
      " #   Column                  Non-Null Count  Dtype \n",
      "---  ------                  --------------  ----- \n",
      " 0   CustomerID              200 non-null    int64 \n",
      " 1   Genre                   200 non-null    object\n",
      " 2   Age                     200 non-null    int64 \n",
      " 3   Annual Income (k$)      200 non-null    int64 \n",
      " 4   Spending Score (1-100)  200 non-null    int64 \n",
      "dtypes: int64(4), object(1)\n",
      "memory usage: 7.9+ KB\n"
     ]
    }
   ],
   "source": [
    "df.info()"
   ]
  },
  {
   "cell_type": "code",
   "execution_count": 6,
   "id": "05bd844c",
   "metadata": {},
   "outputs": [
    {
     "data": {
      "text/plain": [
       "CustomerID                0\n",
       "Genre                     0\n",
       "Age                       0\n",
       "Annual Income (k$)        0\n",
       "Spending Score (1-100)    0\n",
       "dtype: int64"
      ]
     },
     "execution_count": 6,
     "metadata": {},
     "output_type": "execute_result"
    }
   ],
   "source": [
    "# finding null values\n",
    "df.isnull().sum()"
   ]
  },
  {
   "cell_type": "code",
   "execution_count": 7,
   "id": "ff26dd4b",
   "metadata": {},
   "outputs": [
    {
     "data": {
      "text/html": [
       "<div>\n",
       "<style scoped>\n",
       "    .dataframe tbody tr th:only-of-type {\n",
       "        vertical-align: middle;\n",
       "    }\n",
       "\n",
       "    .dataframe tbody tr th {\n",
       "        vertical-align: top;\n",
       "    }\n",
       "\n",
       "    .dataframe thead th {\n",
       "        text-align: right;\n",
       "    }\n",
       "</style>\n",
       "<table border=\"1\" class=\"dataframe\">\n",
       "  <thead>\n",
       "    <tr style=\"text-align: right;\">\n",
       "      <th></th>\n",
       "      <th>CustomerID</th>\n",
       "      <th>Age</th>\n",
       "      <th>Annual Income (k$)</th>\n",
       "      <th>Spending Score (1-100)</th>\n",
       "    </tr>\n",
       "  </thead>\n",
       "  <tbody>\n",
       "    <tr>\n",
       "      <th>count</th>\n",
       "      <td>200.000000</td>\n",
       "      <td>200.000000</td>\n",
       "      <td>200.000000</td>\n",
       "      <td>200.000000</td>\n",
       "    </tr>\n",
       "    <tr>\n",
       "      <th>mean</th>\n",
       "      <td>100.500000</td>\n",
       "      <td>38.850000</td>\n",
       "      <td>60.560000</td>\n",
       "      <td>50.200000</td>\n",
       "    </tr>\n",
       "    <tr>\n",
       "      <th>std</th>\n",
       "      <td>57.879185</td>\n",
       "      <td>13.969007</td>\n",
       "      <td>26.264721</td>\n",
       "      <td>25.823522</td>\n",
       "    </tr>\n",
       "    <tr>\n",
       "      <th>min</th>\n",
       "      <td>1.000000</td>\n",
       "      <td>18.000000</td>\n",
       "      <td>15.000000</td>\n",
       "      <td>1.000000</td>\n",
       "    </tr>\n",
       "    <tr>\n",
       "      <th>25%</th>\n",
       "      <td>50.750000</td>\n",
       "      <td>28.750000</td>\n",
       "      <td>41.500000</td>\n",
       "      <td>34.750000</td>\n",
       "    </tr>\n",
       "    <tr>\n",
       "      <th>50%</th>\n",
       "      <td>100.500000</td>\n",
       "      <td>36.000000</td>\n",
       "      <td>61.500000</td>\n",
       "      <td>50.000000</td>\n",
       "    </tr>\n",
       "    <tr>\n",
       "      <th>75%</th>\n",
       "      <td>150.250000</td>\n",
       "      <td>49.000000</td>\n",
       "      <td>78.000000</td>\n",
       "      <td>73.000000</td>\n",
       "    </tr>\n",
       "    <tr>\n",
       "      <th>max</th>\n",
       "      <td>200.000000</td>\n",
       "      <td>70.000000</td>\n",
       "      <td>137.000000</td>\n",
       "      <td>99.000000</td>\n",
       "    </tr>\n",
       "  </tbody>\n",
       "</table>\n",
       "</div>"
      ],
      "text/plain": [
       "       CustomerID         Age  Annual Income (k$)  Spending Score (1-100)\n",
       "count  200.000000  200.000000          200.000000              200.000000\n",
       "mean   100.500000   38.850000           60.560000               50.200000\n",
       "std     57.879185   13.969007           26.264721               25.823522\n",
       "min      1.000000   18.000000           15.000000                1.000000\n",
       "25%     50.750000   28.750000           41.500000               34.750000\n",
       "50%    100.500000   36.000000           61.500000               50.000000\n",
       "75%    150.250000   49.000000           78.000000               73.000000\n",
       "max    200.000000   70.000000          137.000000               99.000000"
      ]
     },
     "execution_count": 7,
     "metadata": {},
     "output_type": "execute_result"
    }
   ],
   "source": [
    "#describing the data\n",
    "df.describe()"
   ]
  },
  {
   "cell_type": "code",
   "execution_count": 8,
   "id": "7524a0f1",
   "metadata": {},
   "outputs": [
    {
     "data": {
      "text/plain": [
       "0"
      ]
     },
     "execution_count": 8,
     "metadata": {},
     "output_type": "execute_result"
    }
   ],
   "source": [
    "#checking for duplicate\n",
    "df.duplicated().sum()"
   ]
  },
  {
   "cell_type": "code",
   "execution_count": 9,
   "id": "921874af",
   "metadata": {},
   "outputs": [],
   "source": [
    "#droping the serial number \n",
    "df.drop(['CustomerID'],axis=1,inplace=True)"
   ]
  },
  {
   "cell_type": "code",
   "execution_count": 10,
   "id": "043736ce",
   "metadata": {},
   "outputs": [
    {
     "data": {
      "text/html": [
       "<div>\n",
       "<style scoped>\n",
       "    .dataframe tbody tr th:only-of-type {\n",
       "        vertical-align: middle;\n",
       "    }\n",
       "\n",
       "    .dataframe tbody tr th {\n",
       "        vertical-align: top;\n",
       "    }\n",
       "\n",
       "    .dataframe thead th {\n",
       "        text-align: right;\n",
       "    }\n",
       "</style>\n",
       "<table border=\"1\" class=\"dataframe\">\n",
       "  <thead>\n",
       "    <tr style=\"text-align: right;\">\n",
       "      <th></th>\n",
       "      <th>Genre</th>\n",
       "      <th>Age</th>\n",
       "      <th>Annual Income (k$)</th>\n",
       "      <th>Spending Score (1-100)</th>\n",
       "    </tr>\n",
       "  </thead>\n",
       "  <tbody>\n",
       "    <tr>\n",
       "      <th>0</th>\n",
       "      <td>Male</td>\n",
       "      <td>19</td>\n",
       "      <td>15</td>\n",
       "      <td>39</td>\n",
       "    </tr>\n",
       "  </tbody>\n",
       "</table>\n",
       "</div>"
      ],
      "text/plain": [
       "  Genre  Age  Annual Income (k$)  Spending Score (1-100)\n",
       "0  Male   19                  15                      39"
      ]
     },
     "execution_count": 10,
     "metadata": {},
     "output_type": "execute_result"
    }
   ],
   "source": [
    "df.head(1)"
   ]
  },
  {
   "cell_type": "code",
   "execution_count": 11,
   "id": "b62814c6",
   "metadata": {},
   "outputs": [
    {
     "data": {
      "text/plain": [
       "64"
      ]
     },
     "execution_count": 11,
     "metadata": {},
     "output_type": "execute_result"
    }
   ],
   "source": [
    "df['Annual Income (k$)'].nunique()"
   ]
  },
  {
   "cell_type": "code",
   "execution_count": 12,
   "id": "0ba58088",
   "metadata": {},
   "outputs": [
    {
     "data": {
      "text/plain": [
       "84"
      ]
     },
     "execution_count": 12,
     "metadata": {},
     "output_type": "execute_result"
    }
   ],
   "source": [
    "df['Spending Score (1-100)'].nunique()"
   ]
  },
  {
   "cell_type": "code",
   "execution_count": 13,
   "id": "d29b4b4f",
   "metadata": {},
   "outputs": [
    {
     "data": {
      "text/plain": [
       "51"
      ]
     },
     "execution_count": 13,
     "metadata": {},
     "output_type": "execute_result"
    }
   ],
   "source": [
    "df['Age'].nunique()"
   ]
  },
  {
   "cell_type": "code",
   "execution_count": 14,
   "id": "11abfae7",
   "metadata": {},
   "outputs": [
    {
     "data": {
      "text/plain": [
       "2"
      ]
     },
     "execution_count": 14,
     "metadata": {},
     "output_type": "execute_result"
    }
   ],
   "source": [
    "df['Genre'].nunique()"
   ]
  },
  {
   "cell_type": "markdown",
   "id": "8fbc810a",
   "metadata": {},
   "source": [
    "# Univeriate Analysis and Biveriate Analysis"
   ]
  },
  {
   "cell_type": "code",
   "execution_count": 15,
   "id": "dfba98a9",
   "metadata": {},
   "outputs": [
    {
     "data": {
      "image/png": "[encoded data removed]",
      "text/plain": [
       "<Figure size 640x480 with 1 Axes>"
      ]
     },
     "metadata": {},
     "output_type": "display_data"
    }
   ],
   "source": [
    "sns.barplot(x='Genre',y='Age',data=df,ci=None);"
   ]
  },
  {
   "cell_type": "code",
   "execution_count": 16,
   "id": "527bd622",
   "metadata": {},
   "outputs": [
    {
     "data": {
      "text/plain": [
       "<AxesSubplot:xlabel='Annual Income (k$)', ylabel='Spending Score (1-100)'>"
      ]
     },
     "execution_count": 16,
     "metadata": {},
     "output_type": "execute_result"
    },
    {
     "data": {
      "image/png": "[encoded data removed]",
      "text/plain": [
       "<Figure size 640x480 with 1 Axes>"
      ]
     },
     "metadata": {},
     "output_type": "display_data"
    }
   ],
   "source": [
    "sns.scatterplot(x='Annual Income (k$)',y='Spending Score (1-100)',data=df)"
   ]
  },
  {
   "cell_type": "code",
   "execution_count": 17,
   "id": "7e335712",
   "metadata": {},
   "outputs": [
    {
     "data": {
      "image/png": "[encoded data removed]",
      "text/plain": [
       "<Figure size 640x480 with 1 Axes>"
      ]
     },
     "metadata": {},
     "output_type": "display_data"
    }
   ],
   "source": [
    "sns.barplot(x='Genre',y='Annual Income (k$)',data=df,ci=None);"
   ]
  },
  {
   "cell_type": "code",
   "execution_count": 18,
   "id": "9f3fda86",
   "metadata": {},
   "outputs": [
    {
     "data": {
      "image/png": "[encoded data removed]",
      "text/plain": [
       "<Figure size 640x480 with 1 Axes>"
      ]
     },
     "metadata": {},
     "output_type": "display_data"
    }
   ],
   "source": [
    "sns.barplot(x='Genre',y='Spending Score (1-100)',data=df,ci=None);"
   ]
  },
  {
   "cell_type": "code",
   "execution_count": 19,
   "id": "42397d36",
   "metadata": {},
   "outputs": [
    {
     "data": {
      "text/plain": [
       "<AxesSubplot:xlabel='Age', ylabel='Spending Score (1-100)'>"
      ]
     },
     "execution_count": 19,
     "metadata": {},
     "output_type": "execute_result"
    },
    {
     "data": {
      "image/png": "[encoded data removed]",
      "text/plain": [
       "<Figure size 640x480 with 1 Axes>"
      ]
     },
     "metadata": {},
     "output_type": "display_data"
    }
   ],
   "source": [
    "sns.scatterplot(x='Age',y='Spending Score (1-100)',data=df)"
   ]
  },
  {
   "cell_type": "code",
   "execution_count": 20,
   "id": "1963f4a2",
   "metadata": {},
   "outputs": [
    {
     "data": {
      "text/plain": [
       "<AxesSubplot:xlabel='Age', ylabel='Annual Income (k$)'>"
      ]
     },
     "execution_count": 20,
     "metadata": {},
     "output_type": "execute_result"
    },
    {
     "data": {
      "image/png": "[encoded data removed]",
      "text/plain": [
       "<Figure size 640x480 with 1 Axes>"
      ]
     },
     "metadata": {},
     "output_type": "display_data"
    }
   ],
   "source": [
    "sns.lineplot(x='Age',y='Annual Income (k$)',data=df)"
   ]
  },
  {
   "cell_type": "code",
   "execution_count": 21,
   "id": "542390a1",
   "metadata": {},
   "outputs": [],
   "source": [
    "df['Genre']=pd.Categorical(df['Genre']).codes"
   ]
  },
  {
   "cell_type": "markdown",
   "id": "eb036dc4",
   "metadata": {},
   "source": [
    "###### Scaling the dataset"
   ]
  },
  {
   "cell_type": "code",
   "execution_count": 22,
   "id": "614e225a",
   "metadata": {},
   "outputs": [],
   "source": [
    "# importing the StandardScaler Module\n",
    "from sklearn.preprocessing import StandardScaler\n"
   ]
  },
  {
   "cell_type": "code",
   "execution_count": 23,
   "id": "342f2bf8",
   "metadata": {},
   "outputs": [],
   "source": [
    "# Creating an object for the StandardScaler function\n",
    "x=StandardScaler()"
   ]
  },
  {
   "cell_type": "code",
   "execution_count": 24,
   "id": "b003e602",
   "metadata": {},
   "outputs": [],
   "source": [
    "scaled_df=pd.DataFrame(x.fit_transform(df.iloc[:,1:4]),columns=df.columns[1:])"
   ]
  },
  {
   "cell_type": "code",
   "execution_count": 25,
   "id": "c799c205",
   "metadata": {},
   "outputs": [
    {
     "data": {
      "text/html": [
       "<div>\n",
       "<style scoped>\n",
       "    .dataframe tbody tr th:only-of-type {\n",
       "        vertical-align: middle;\n",
       "    }\n",
       "\n",
       "    .dataframe tbody tr th {\n",
       "        vertical-align: top;\n",
       "    }\n",
       "\n",
       "    .dataframe thead th {\n",
       "        text-align: right;\n",
       "    }\n",
       "</style>\n",
       "<table border=\"1\" class=\"dataframe\">\n",
       "  <thead>\n",
       "    <tr style=\"text-align: right;\">\n",
       "      <th></th>\n",
       "      <th>Age</th>\n",
       "      <th>Annual Income (k$)</th>\n",
       "      <th>Spending Score (1-100)</th>\n",
       "    </tr>\n",
       "  </thead>\n",
       "  <tbody>\n",
       "    <tr>\n",
       "      <th>0</th>\n",
       "      <td>-1.424569</td>\n",
       "      <td>-1.738999</td>\n",
       "      <td>-0.434801</td>\n",
       "    </tr>\n",
       "    <tr>\n",
       "      <th>1</th>\n",
       "      <td>-1.281035</td>\n",
       "      <td>-1.738999</td>\n",
       "      <td>1.195704</td>\n",
       "    </tr>\n",
       "    <tr>\n",
       "      <th>2</th>\n",
       "      <td>-1.352802</td>\n",
       "      <td>-1.700830</td>\n",
       "      <td>-1.715913</td>\n",
       "    </tr>\n",
       "    <tr>\n",
       "      <th>3</th>\n",
       "      <td>-1.137502</td>\n",
       "      <td>-1.700830</td>\n",
       "      <td>1.040418</td>\n",
       "    </tr>\n",
       "    <tr>\n",
       "      <th>4</th>\n",
       "      <td>-0.563369</td>\n",
       "      <td>-1.662660</td>\n",
       "      <td>-0.395980</td>\n",
       "    </tr>\n",
       "  </tbody>\n",
       "</table>\n",
       "</div>"
      ],
      "text/plain": [
       "        Age  Annual Income (k$)  Spending Score (1-100)\n",
       "0 -1.424569           -1.738999               -0.434801\n",
       "1 -1.281035           -1.738999                1.195704\n",
       "2 -1.352802           -1.700830               -1.715913\n",
       "3 -1.137502           -1.700830                1.040418\n",
       "4 -0.563369           -1.662660               -0.395980"
      ]
     },
     "execution_count": 25,
     "metadata": {},
     "output_type": "execute_result"
    }
   ],
   "source": [
    "scaled_df.head()"
   ]
  },
  {
   "cell_type": "markdown",
   "id": "1f57b7eb",
   "metadata": {},
   "source": [
    "# K-Means Clustering\n"
   ]
  },
  {
   "cell_type": "code",
   "execution_count": 26,
   "id": "7533f4ff",
   "metadata": {},
   "outputs": [],
   "source": [
    "from sklearn.cluster import KMeans"
   ]
  },
  {
   "cell_type": "markdown",
   "id": "d0993979",
   "metadata": {},
   "source": [
    "##### Forming 2 cluster with K=2"
   ]
  },
  {
   "cell_type": "code",
   "execution_count": 27,
   "id": "bee7c22b",
   "metadata": {},
   "outputs": [],
   "source": [
    "# Create K Means cluster and store the result in the object k_means\n",
    "k_means=KMeans(n_clusters=2,random_state=1)"
   ]
  },
  {
   "cell_type": "code",
   "execution_count": 28,
   "id": "f0da4b29",
   "metadata": {},
   "outputs": [
    {
     "data": {
      "text/plain": [
       "KMeans(n_clusters=2, random_state=1)"
      ]
     },
     "execution_count": 28,
     "metadata": {},
     "output_type": "execute_result"
    }
   ],
   "source": [
    "# Fit K means on the scaled_df\n",
    "\n",
    "k_means.fit(scaled_df)"
   ]
  },
  {
   "cell_type": "markdown",
   "id": "bf5eb7d9",
   "metadata": {},
   "source": [
    "### Cluster Output for all the observations"
   ]
  },
  {
   "cell_type": "code",
   "execution_count": 29,
   "id": "d2cdba4a",
   "metadata": {},
   "outputs": [
    {
     "data": {
      "text/plain": [
       "array([1, 1, 0, 1, 1, 1, 0, 1, 0, 1, 0, 1, 0, 1, 0, 1, 0, 1, 0, 1, 0, 1,\n",
       "       0, 1, 0, 1, 0, 1, 0, 1, 0, 1, 0, 1, 0, 1, 0, 1, 0, 1, 0, 1, 0, 1,\n",
       "       0, 1, 0, 1, 1, 1, 0, 1, 1, 0, 0, 0, 0, 0, 1, 0, 0, 1, 0, 0, 0, 1,\n",
       "       0, 0, 1, 1, 0, 0, 0, 0, 0, 1, 0, 0, 1, 0, 0, 1, 0, 0, 1, 0, 0, 1,\n",
       "       1, 0, 0, 1, 0, 0, 1, 1, 0, 1, 0, 1, 1, 0, 0, 1, 0, 1, 0, 0, 0, 0,\n",
       "       0, 1, 0, 1, 1, 1, 0, 0, 0, 0, 1, 0, 1, 1, 1, 1, 0, 1, 0, 1, 0, 1,\n",
       "       1, 1, 0, 1, 0, 1, 0, 1, 0, 1, 1, 1, 0, 1, 0, 1, 0, 1, 0, 1, 0, 1,\n",
       "       0, 1, 0, 1, 0, 1, 0, 1, 0, 1, 0, 1, 0, 1, 0, 1, 0, 1, 0, 1, 0, 1,\n",
       "       0, 1, 0, 1, 0, 1, 0, 1, 0, 1, 0, 1, 0, 1, 0, 1, 0, 1, 0, 1, 0, 1,\n",
       "       0, 1])"
      ]
     },
     "execution_count": 29,
     "metadata": {},
     "output_type": "execute_result"
    }
   ],
   "source": [
    "# Get the labels\n",
    "k_means.labels_"
   ]
  },
  {
   "cell_type": "markdown",
   "id": "f66f5e14",
   "metadata": {},
   "source": [
    "### Within Cluster Sum of Squares"
   ]
  },
  {
   "cell_type": "code",
   "execution_count": 30,
   "id": "cd4f33a1",
   "metadata": {},
   "outputs": [
    {
     "data": {
      "text/plain": [
       "389.3861889564372"
      ]
     },
     "execution_count": 30,
     "metadata": {},
     "output_type": "execute_result"
    }
   ],
   "source": [
    "k_means.inertia_"
   ]
  },
  {
   "cell_type": "markdown",
   "id": "5098f94a",
   "metadata": {},
   "source": [
    "### Forming clusters with K = 1,3,4,5,6 and comparing the WSS"
   ]
  },
  {
   "cell_type": "code",
   "execution_count": 31,
   "id": "d1cc8de9",
   "metadata": {},
   "outputs": [
    {
     "data": {
      "text/plain": [
       "295.2122461555488"
      ]
     },
     "execution_count": 31,
     "metadata": {},
     "output_type": "execute_result"
    }
   ],
   "source": [
    "k_means=KMeans(n_clusters=3,random_state=1)\n",
    "k_means.fit(scaled_df)\n",
    "k_means.inertia_"
   ]
  },
  {
   "cell_type": "code",
   "execution_count": 32,
   "id": "bcf92d3b",
   "metadata": {},
   "outputs": [
    {
     "data": {
      "text/plain": [
       "205.22514747675913"
      ]
     },
     "execution_count": 32,
     "metadata": {},
     "output_type": "execute_result"
    }
   ],
   "source": [
    "k_means=KMeans(n_clusters=4,random_state=1)\n",
    "k_means.fit(scaled_df)\n",
    "k_means.inertia_"
   ]
  },
  {
   "cell_type": "markdown",
   "id": "e3051192",
   "metadata": {},
   "source": [
    "### Calculating WSS for other values of K - Elbow Method"
   ]
  },
  {
   "cell_type": "code",
   "execution_count": 33,
   "id": "a6b6a7ff",
   "metadata": {},
   "outputs": [
    {
     "name": "stderr",
     "output_type": "stream",
     "text": [
      "C:\\Users\\Lenovo\\anaconda3\\lib\\site-packages\\sklearn\\cluster\\_kmeans.py:1036: UserWarning: KMeans is known to have a memory leak on Windows with MKL, when there are less chunks than available threads. You can avoid it by setting the environment variable OMP_NUM_THREADS=1.\n",
      "  warnings.warn(\n"
     ]
    }
   ],
   "source": [
    "wss=[]\n",
    "for i in range (1,11):\n",
    "    km=KMeans(n_clusters=i,random_state=1)\n",
    "    km.fit(scaled_df)\n",
    "    wss.append(km.inertia_)"
   ]
  },
  {
   "cell_type": "code",
   "execution_count": 34,
   "id": "cf85985e",
   "metadata": {},
   "outputs": [
    {
     "data": {
      "text/plain": [
       "[599.9999999999999,\n",
       " 389.3861889564372,\n",
       " 295.2122461555488,\n",
       " 205.22514747675913,\n",
       " 168.24758017556834,\n",
       " 133.86833362685584,\n",
       " 117.13060763524544,\n",
       " 103.81797230310197,\n",
       " 92.86066988018615,\n",
       " 81.6020758174705]"
      ]
     },
     "execution_count": 34,
     "metadata": {},
     "output_type": "execute_result"
    }
   ],
   "source": [
    "wss"
   ]
  },
  {
   "cell_type": "code",
   "execution_count": 35,
   "id": "926ff76b",
   "metadata": {},
   "outputs": [
    {
     "name": "stderr",
     "output_type": "stream",
     "text": [
      "C:\\Users\\Lenovo\\anaconda3\\lib\\site-packages\\seaborn\\_decorators.py:36: FutureWarning: Pass the following variables as keyword args: x, y. From version 0.12, the only valid positional argument will be `data`, and passing other arguments without an explicit keyword will result in an error or misinterpretation.\n",
      "  warnings.warn(\n"
     ]
    },
    {
     "data": {
      "text/plain": [
       "<AxesSubplot:>"
      ]
     },
     "execution_count": 35,
     "metadata": {},
     "output_type": "execute_result"
    },
    {
     "data": {
      "image/png": "[encoded data removed]",
      "text/plain": [
       "<Figure size 640x480 with 1 Axes>"
      ]
     },
     "metadata": {},
     "output_type": "display_data"
    }
   ],
   "source": [
    "a=[1,2,3,4,5,6,7,8,9,10]\n",
    "sns.pointplot(a,wss)"
   ]
  },
  {
   "cell_type": "markdown",
   "id": "f37b73c6",
   "metadata": {},
   "source": [
    "# KMeans with K=4"
   ]
  },
  {
   "cell_type": "code",
   "execution_count": 36,
   "id": "43fa5bb0",
   "metadata": {},
   "outputs": [],
   "source": [
    "from sklearn.metrics import silhouette_samples,silhouette_score"
   ]
  },
  {
   "cell_type": "code",
   "execution_count": 37,
   "id": "3669d959",
   "metadata": {},
   "outputs": [],
   "source": [
    "k_means=KMeans(n_clusters=4,random_state=1)\n",
    "k_means.fit(scaled_df)\n",
    "labels=k_means.labels_"
   ]
  },
  {
   "cell_type": "code",
   "execution_count": 38,
   "id": "c665d09a",
   "metadata": {},
   "outputs": [
    {
     "data": {
      "text/plain": [
       "0.4039582785148566"
      ]
     },
     "execution_count": 38,
     "metadata": {},
     "output_type": "execute_result"
    }
   ],
   "source": [
    "sil_score=silhouette_score(scaled_df,labels,random_state=1)\n",
    "sil_score"
   ]
  },
  {
   "cell_type": "markdown",
   "id": "c9e551cc",
   "metadata": {},
   "source": [
    "### Cluster evaluation for 4 clusters"
   ]
  },
  {
   "cell_type": "code",
   "execution_count": 39,
   "id": "0f6a75f3",
   "metadata": {},
   "outputs": [],
   "source": [
    "# 4 clusters are good cluster compare to 3 cluster\n",
    "k_means=KMeans(n_clusters=5,random_state=1)\n",
    "k_means.fit(scaled_df)\n",
    "labels=k_means.labels_"
   ]
  },
  {
   "cell_type": "code",
   "execution_count": 40,
   "id": "0ac8e5b4",
   "metadata": {},
   "outputs": [
    {
     "data": {
      "text/plain": [
       "0.41664341513732767"
      ]
     },
     "execution_count": 40,
     "metadata": {},
     "output_type": "execute_result"
    }
   ],
   "source": [
    "sil_score=silhouette_score(scaled_df,labels,random_state=1)\n",
    "sil_score"
   ]
  },
  {
   "cell_type": "code",
   "execution_count": 41,
   "id": "94ac70b7",
   "metadata": {},
   "outputs": [],
   "source": [
    "k_means=KMeans(n_clusters=6,random_state=1)\n",
    "k_means.fit(scaled_df)\n",
    "labels=k_means.labels_"
   ]
  },
  {
   "cell_type": "code",
   "execution_count": 42,
   "id": "34a55662",
   "metadata": {},
   "outputs": [
    {
     "data": {
      "text/plain": [
       "0.42742814991580175"
      ]
     },
     "execution_count": 42,
     "metadata": {},
     "output_type": "execute_result"
    }
   ],
   "source": [
    "sil_score=silhouette_score(scaled_df,labels,random_state=1)\n",
    "sil_score"
   ]
  },
  {
   "cell_type": "code",
   "execution_count": 43,
   "id": "7ad02b5e",
   "metadata": {},
   "outputs": [],
   "source": [
    "k_means=KMeans(n_clusters=7,random_state=1)\n",
    "k_means.fit(scaled_df)\n",
    "labels=k_means.labels_"
   ]
  },
  {
   "cell_type": "code",
   "execution_count": 44,
   "id": "97b7ff35",
   "metadata": {},
   "outputs": [
    {
     "data": {
      "text/plain": [
       "0.4180766295787896"
      ]
     },
     "execution_count": 44,
     "metadata": {},
     "output_type": "execute_result"
    }
   ],
   "source": [
    "sil_score=silhouette_score(scaled_df,labels,random_state=1)\n",
    "sil_score"
   ]
  },
  {
   "cell_type": "code",
   "execution_count": 45,
   "id": "9ffee3d7",
   "metadata": {},
   "outputs": [
    {
     "data": {
      "text/plain": [
       "array([ 0.00250177,  0.63328601,  0.08563194,  0.64389584,  0.02310231,\n",
       "        0.63447427,  0.44003031,  0.61621419,  0.26260879,  0.55679833,\n",
       "        0.09642549,  0.52076473,  0.35203604,  0.65989717,  0.45856335,\n",
       "        0.65846462,  0.22486295,  0.45519696,  0.282701  ,  0.51859887,\n",
       "        0.19271172,  0.60877843,  0.47984474,  0.53247937,  0.40427418,\n",
       "        0.61125756,  0.20878433,  0.18888363,  0.23898172,  0.63050782,\n",
       "        0.2998277 ,  0.52172561,  0.39819026,  0.5220314 ,  0.3903387 ,\n",
       "        0.56356923,  0.35912008,  0.42677179,  0.1660923 ,  0.40606087,\n",
       "        0.40895809,  0.51506093,  0.21480691,  0.03687087, -0.01811692,\n",
       "        0.07704476,  0.29260357,  0.41681232,  0.40550012,  0.31950803,\n",
       "        0.3836203 ,  0.14901131,  0.34437964,  0.30635652,  0.37701003,\n",
       "        0.44499291,  0.32772529,  0.61251153,  0.49732844,  0.21584039,\n",
       "        0.6185024 ,  0.40605026,  0.65145367,  0.04562334,  0.58813173,\n",
       "        0.35412175,  0.50397141,  0.65737626,  0.36863658,  0.32231539,\n",
       "        0.64113345,  0.53223777,  0.45103013,  0.43456929,  0.36015514,\n",
       "        0.58068147,  0.57137911,  0.38198111,  0.60929758,  0.5134148 ,\n",
       "        0.17694073,  0.18331612,  0.6044025 ,  0.59090319,  0.52898153,\n",
       "        0.56140101,  0.00537211,  0.59364148,  0.1525871 ,  0.4973607 ,\n",
       "        0.6371382 ,  0.60102318,  0.56036211,  0.38086972,  0.2706434 ,\n",
       "        0.639437  ,  0.58534644,  0.56980556,  0.54301283,  0.63481929,\n",
       "        0.59968577,  0.52418848,  0.57081699,  0.5609233 ,  0.45987854,\n",
       "        0.62367197,  0.60830522,  0.20681702,  0.57753723,  0.6033057 ,\n",
       "        0.58747136,  0.57639489,  0.24298379,  0.61720588,  0.58919037,\n",
       "        0.58951016,  0.45446855,  0.40858326,  0.39600058,  0.3818555 ,\n",
       "        0.43308946,  0.23103573,  0.28909849,  0.45477689,  0.36560999,\n",
       "        0.38384735,  0.3205867 ,  0.46231644,  0.03147928,  0.35165316,\n",
       "        0.24289036,  0.31386972,  0.40131241,  0.29311653,  0.03921864,\n",
       "        0.51699853,  0.32529744,  0.38791597, -0.04133562,  0.41081137,\n",
       "        0.19516804,  0.57667073,  0.34502774,  0.59055893,  0.12390158,\n",
       "        0.53815203,  0.25616406,  0.47993868,  0.26350116,  0.61636513,\n",
       "        0.31832712,  0.54668838,  0.2547297 ,  0.47472577,  0.28200254,\n",
       "        0.54063887,  0.42650867,  0.52669004,  0.42013561,  0.44261676,\n",
       "        0.06488041,  0.56736861,  0.10591153,  0.61819236,  0.16177216,\n",
       "        0.56216172,  0.39703362,  0.63577871,  0.31949404,  0.34426067,\n",
       "        0.47525734,  0.51922625,  0.48052629,  0.64215652,  0.35619595,\n",
       "        0.63520893,  0.23683394,  0.40217424,  0.26506282,  0.64751548,\n",
       "        0.33082479,  0.63453143,  0.46975221,  0.60947717,  0.21057756,\n",
       "        0.59707907,  0.29864339,  0.4456043 ,  0.49095508,  0.59993761,\n",
       "        0.44175962,  0.49277503,  0.47378745,  0.53344079,  0.42330951,\n",
       "        0.49606417,  0.35953194,  0.42162065,  0.32374098,  0.40046837])"
      ]
     },
     "execution_count": 45,
     "metadata": {},
     "output_type": "execute_result"
    }
   ],
   "source": [
    "#silhoutte sample(silhoutte width,silhoutte coefficient)\n",
    "sil_width=silhouette_samples(scaled_df,labels)\n",
    "sil_width"
   ]
  },
  {
   "cell_type": "code",
   "execution_count": 46,
   "id": "4fd845c9",
   "metadata": {},
   "outputs": [],
   "source": [
    "df['sil_width']=sil_width"
   ]
  },
  {
   "cell_type": "code",
   "execution_count": 47,
   "id": "ddd20bbe",
   "metadata": {},
   "outputs": [
    {
     "data": {
      "text/html": [
       "<div>\n",
       "<style scoped>\n",
       "    .dataframe tbody tr th:only-of-type {\n",
       "        vertical-align: middle;\n",
       "    }\n",
       "\n",
       "    .dataframe tbody tr th {\n",
       "        vertical-align: top;\n",
       "    }\n",
       "\n",
       "    .dataframe thead th {\n",
       "        text-align: right;\n",
       "    }\n",
       "</style>\n",
       "<table border=\"1\" class=\"dataframe\">\n",
       "  <thead>\n",
       "    <tr style=\"text-align: right;\">\n",
       "      <th></th>\n",
       "      <th>Genre</th>\n",
       "      <th>Age</th>\n",
       "      <th>Annual Income (k$)</th>\n",
       "      <th>Spending Score (1-100)</th>\n",
       "      <th>sil_width</th>\n",
       "    </tr>\n",
       "  </thead>\n",
       "  <tbody>\n",
       "    <tr>\n",
       "      <th>0</th>\n",
       "      <td>1</td>\n",
       "      <td>19</td>\n",
       "      <td>15</td>\n",
       "      <td>39</td>\n",
       "      <td>0.002502</td>\n",
       "    </tr>\n",
       "    <tr>\n",
       "      <th>1</th>\n",
       "      <td>1</td>\n",
       "      <td>21</td>\n",
       "      <td>15</td>\n",
       "      <td>81</td>\n",
       "      <td>0.633286</td>\n",
       "    </tr>\n",
       "    <tr>\n",
       "      <th>2</th>\n",
       "      <td>0</td>\n",
       "      <td>20</td>\n",
       "      <td>16</td>\n",
       "      <td>6</td>\n",
       "      <td>0.085632</td>\n",
       "    </tr>\n",
       "    <tr>\n",
       "      <th>3</th>\n",
       "      <td>0</td>\n",
       "      <td>23</td>\n",
       "      <td>16</td>\n",
       "      <td>77</td>\n",
       "      <td>0.643896</td>\n",
       "    </tr>\n",
       "    <tr>\n",
       "      <th>4</th>\n",
       "      <td>0</td>\n",
       "      <td>31</td>\n",
       "      <td>17</td>\n",
       "      <td>40</td>\n",
       "      <td>0.023102</td>\n",
       "    </tr>\n",
       "  </tbody>\n",
       "</table>\n",
       "</div>"
      ],
      "text/plain": [
       "   Genre  Age  Annual Income (k$)  Spending Score (1-100)  sil_width\n",
       "0      1   19                  15                      39   0.002502\n",
       "1      1   21                  15                      81   0.633286\n",
       "2      0   20                  16                       6   0.085632\n",
       "3      0   23                  16                      77   0.643896\n",
       "4      0   31                  17                      40   0.023102"
      ]
     },
     "execution_count": 47,
     "metadata": {},
     "output_type": "execute_result"
    }
   ],
   "source": [
    "df.head()"
   ]
  },
  {
   "cell_type": "code",
   "execution_count": 48,
   "id": "a0778bc1",
   "metadata": {},
   "outputs": [
    {
     "data": {
      "text/plain": [
       "0.4180766295787896"
      ]
     },
     "execution_count": 48,
     "metadata": {},
     "output_type": "execute_result"
    }
   ],
   "source": [
    "df['sil_width'].mean()"
   ]
  },
  {
   "cell_type": "code",
   "execution_count": 49,
   "id": "554dfde7",
   "metadata": {},
   "outputs": [
    {
     "data": {
      "text/plain": [
       "0.6598971737813094"
      ]
     },
     "execution_count": 49,
     "metadata": {},
     "output_type": "execute_result"
    }
   ],
   "source": [
    "df['sil_width'].max()"
   ]
  },
  {
   "cell_type": "code",
   "execution_count": 50,
   "id": "1b2c154b",
   "metadata": {},
   "outputs": [
    {
     "data": {
      "text/plain": [
       "-0.04133561696769415"
      ]
     },
     "execution_count": 50,
     "metadata": {},
     "output_type": "execute_result"
    }
   ],
   "source": [
    "df['sil_width'].min()"
   ]
  },
  {
   "cell_type": "code",
   "execution_count": 51,
   "id": "8e466913",
   "metadata": {},
   "outputs": [
    {
     "data": {
      "text/html": [
       "<div>\n",
       "<style scoped>\n",
       "    .dataframe tbody tr th:only-of-type {\n",
       "        vertical-align: middle;\n",
       "    }\n",
       "\n",
       "    .dataframe tbody tr th {\n",
       "        vertical-align: top;\n",
       "    }\n",
       "\n",
       "    .dataframe thead th {\n",
       "        text-align: right;\n",
       "    }\n",
       "</style>\n",
       "<table border=\"1\" class=\"dataframe\">\n",
       "  <thead>\n",
       "    <tr style=\"text-align: right;\">\n",
       "      <th></th>\n",
       "      <th>Genre</th>\n",
       "      <th>Age</th>\n",
       "      <th>Annual Income (k$)</th>\n",
       "      <th>Spending Score (1-100)</th>\n",
       "      <th>sil_width</th>\n",
       "    </tr>\n",
       "  </thead>\n",
       "  <tbody>\n",
       "    <tr>\n",
       "      <th>44</th>\n",
       "      <td>0</td>\n",
       "      <td>49</td>\n",
       "      <td>39</td>\n",
       "      <td>28</td>\n",
       "      <td>-0.018117</td>\n",
       "    </tr>\n",
       "    <tr>\n",
       "      <th>138</th>\n",
       "      <td>1</td>\n",
       "      <td>19</td>\n",
       "      <td>74</td>\n",
       "      <td>10</td>\n",
       "      <td>-0.041336</td>\n",
       "    </tr>\n",
       "  </tbody>\n",
       "</table>\n",
       "</div>"
      ],
      "text/plain": [
       "     Genre  Age  Annual Income (k$)  Spending Score (1-100)  sil_width\n",
       "44       0   49                  39                      28  -0.018117\n",
       "138      1   19                  74                      10  -0.041336"
      ]
     },
     "execution_count": 51,
     "metadata": {},
     "output_type": "execute_result"
    }
   ],
   "source": [
    "df[df['sil_width']<=0]"
   ]
  },
  {
   "cell_type": "code",
   "execution_count": 52,
   "id": "11eda191",
   "metadata": {},
   "outputs": [
    {
     "data": {
      "text/plain": [
       "2"
      ]
     },
     "execution_count": 52,
     "metadata": {},
     "output_type": "execute_result"
    }
   ],
   "source": [
    "df[df['sil_width']<=0].value_counts().sum()"
   ]
  },
  {
   "cell_type": "code",
   "execution_count": 53,
   "id": "77572e5b",
   "metadata": {},
   "outputs": [
    {
     "data": {
      "text/html": [
       "<div>\n",
       "<style scoped>\n",
       "    .dataframe tbody tr th:only-of-type {\n",
       "        vertical-align: middle;\n",
       "    }\n",
       "\n",
       "    .dataframe tbody tr th {\n",
       "        vertical-align: top;\n",
       "    }\n",
       "\n",
       "    .dataframe thead th {\n",
       "        text-align: right;\n",
       "    }\n",
       "</style>\n",
       "<table border=\"1\" class=\"dataframe\">\n",
       "  <thead>\n",
       "    <tr style=\"text-align: right;\">\n",
       "      <th></th>\n",
       "      <th>Genre</th>\n",
       "      <th>Age</th>\n",
       "      <th>Annual Income (k$)</th>\n",
       "      <th>Spending Score (1-100)</th>\n",
       "      <th>sil_width</th>\n",
       "    </tr>\n",
       "  </thead>\n",
       "  <tbody>\n",
       "    <tr>\n",
       "      <th>0</th>\n",
       "      <td>1</td>\n",
       "      <td>19</td>\n",
       "      <td>15</td>\n",
       "      <td>39</td>\n",
       "      <td>0.002502</td>\n",
       "    </tr>\n",
       "    <tr>\n",
       "      <th>1</th>\n",
       "      <td>1</td>\n",
       "      <td>21</td>\n",
       "      <td>15</td>\n",
       "      <td>81</td>\n",
       "      <td>0.633286</td>\n",
       "    </tr>\n",
       "    <tr>\n",
       "      <th>2</th>\n",
       "      <td>0</td>\n",
       "      <td>20</td>\n",
       "      <td>16</td>\n",
       "      <td>6</td>\n",
       "      <td>0.085632</td>\n",
       "    </tr>\n",
       "    <tr>\n",
       "      <th>3</th>\n",
       "      <td>0</td>\n",
       "      <td>23</td>\n",
       "      <td>16</td>\n",
       "      <td>77</td>\n",
       "      <td>0.643896</td>\n",
       "    </tr>\n",
       "    <tr>\n",
       "      <th>4</th>\n",
       "      <td>0</td>\n",
       "      <td>31</td>\n",
       "      <td>17</td>\n",
       "      <td>40</td>\n",
       "      <td>0.023102</td>\n",
       "    </tr>\n",
       "    <tr>\n",
       "      <th>...</th>\n",
       "      <td>...</td>\n",
       "      <td>...</td>\n",
       "      <td>...</td>\n",
       "      <td>...</td>\n",
       "      <td>...</td>\n",
       "    </tr>\n",
       "    <tr>\n",
       "      <th>195</th>\n",
       "      <td>0</td>\n",
       "      <td>35</td>\n",
       "      <td>120</td>\n",
       "      <td>79</td>\n",
       "      <td>0.496064</td>\n",
       "    </tr>\n",
       "    <tr>\n",
       "      <th>196</th>\n",
       "      <td>0</td>\n",
       "      <td>45</td>\n",
       "      <td>126</td>\n",
       "      <td>28</td>\n",
       "      <td>0.359532</td>\n",
       "    </tr>\n",
       "    <tr>\n",
       "      <th>197</th>\n",
       "      <td>1</td>\n",
       "      <td>32</td>\n",
       "      <td>126</td>\n",
       "      <td>74</td>\n",
       "      <td>0.421621</td>\n",
       "    </tr>\n",
       "    <tr>\n",
       "      <th>198</th>\n",
       "      <td>1</td>\n",
       "      <td>32</td>\n",
       "      <td>137</td>\n",
       "      <td>18</td>\n",
       "      <td>0.323741</td>\n",
       "    </tr>\n",
       "    <tr>\n",
       "      <th>199</th>\n",
       "      <td>1</td>\n",
       "      <td>30</td>\n",
       "      <td>137</td>\n",
       "      <td>83</td>\n",
       "      <td>0.400468</td>\n",
       "    </tr>\n",
       "  </tbody>\n",
       "</table>\n",
       "<p>198 rows × 5 columns</p>\n",
       "</div>"
      ],
      "text/plain": [
       "     Genre  Age  Annual Income (k$)  Spending Score (1-100)  sil_width\n",
       "0        1   19                  15                      39   0.002502\n",
       "1        1   21                  15                      81   0.633286\n",
       "2        0   20                  16                       6   0.085632\n",
       "3        0   23                  16                      77   0.643896\n",
       "4        0   31                  17                      40   0.023102\n",
       "..     ...  ...                 ...                     ...        ...\n",
       "195      0   35                 120                      79   0.496064\n",
       "196      0   45                 126                      28   0.359532\n",
       "197      1   32                 126                      74   0.421621\n",
       "198      1   32                 137                      18   0.323741\n",
       "199      1   30                 137                      83   0.400468\n",
       "\n",
       "[198 rows x 5 columns]"
      ]
     },
     "execution_count": 53,
     "metadata": {},
     "output_type": "execute_result"
    }
   ],
   "source": [
    "df[df['sil_width']>=0]"
   ]
  },
  {
   "cell_type": "markdown",
   "id": "fb61182d",
   "metadata": {},
   "source": [
    "###### Appending Clusters to the original dataset"
   ]
  },
  {
   "cell_type": "code",
   "execution_count": 54,
   "id": "52cf4580",
   "metadata": {},
   "outputs": [],
   "source": [
    "df['KMeans_clus_4']=labels"
   ]
  },
  {
   "cell_type": "code",
   "execution_count": 55,
   "id": "4020b72d",
   "metadata": {},
   "outputs": [
    {
     "data": {
      "text/html": [
       "<div>\n",
       "<style scoped>\n",
       "    .dataframe tbody tr th:only-of-type {\n",
       "        vertical-align: middle;\n",
       "    }\n",
       "\n",
       "    .dataframe tbody tr th {\n",
       "        vertical-align: top;\n",
       "    }\n",
       "\n",
       "    .dataframe thead th {\n",
       "        text-align: right;\n",
       "    }\n",
       "</style>\n",
       "<table border=\"1\" class=\"dataframe\">\n",
       "  <thead>\n",
       "    <tr style=\"text-align: right;\">\n",
       "      <th></th>\n",
       "      <th>Genre</th>\n",
       "      <th>Age</th>\n",
       "      <th>Annual Income (k$)</th>\n",
       "      <th>Spending Score (1-100)</th>\n",
       "      <th>sil_width</th>\n",
       "      <th>KMeans_clus_4</th>\n",
       "    </tr>\n",
       "  </thead>\n",
       "  <tbody>\n",
       "    <tr>\n",
       "      <th>0</th>\n",
       "      <td>1</td>\n",
       "      <td>19</td>\n",
       "      <td>15</td>\n",
       "      <td>39</td>\n",
       "      <td>0.002502</td>\n",
       "      <td>6</td>\n",
       "    </tr>\n",
       "    <tr>\n",
       "      <th>1</th>\n",
       "      <td>1</td>\n",
       "      <td>21</td>\n",
       "      <td>15</td>\n",
       "      <td>81</td>\n",
       "      <td>0.633286</td>\n",
       "      <td>3</td>\n",
       "    </tr>\n",
       "    <tr>\n",
       "      <th>2</th>\n",
       "      <td>0</td>\n",
       "      <td>20</td>\n",
       "      <td>16</td>\n",
       "      <td>6</td>\n",
       "      <td>0.085632</td>\n",
       "      <td>4</td>\n",
       "    </tr>\n",
       "    <tr>\n",
       "      <th>3</th>\n",
       "      <td>0</td>\n",
       "      <td>23</td>\n",
       "      <td>16</td>\n",
       "      <td>77</td>\n",
       "      <td>0.643896</td>\n",
       "      <td>3</td>\n",
       "    </tr>\n",
       "    <tr>\n",
       "      <th>4</th>\n",
       "      <td>0</td>\n",
       "      <td>31</td>\n",
       "      <td>17</td>\n",
       "      <td>40</td>\n",
       "      <td>0.023102</td>\n",
       "      <td>4</td>\n",
       "    </tr>\n",
       "  </tbody>\n",
       "</table>\n",
       "</div>"
      ],
      "text/plain": [
       "   Genre  Age  Annual Income (k$)  Spending Score (1-100)  sil_width  \\\n",
       "0      1   19                  15                      39   0.002502   \n",
       "1      1   21                  15                      81   0.633286   \n",
       "2      0   20                  16                       6   0.085632   \n",
       "3      0   23                  16                      77   0.643896   \n",
       "4      0   31                  17                      40   0.023102   \n",
       "\n",
       "   KMeans_clus_4  \n",
       "0              6  \n",
       "1              3  \n",
       "2              4  \n",
       "3              3  \n",
       "4              4  "
      ]
     },
     "execution_count": 55,
     "metadata": {},
     "output_type": "execute_result"
    }
   ],
   "source": [
    "df.head()"
   ]
  },
  {
   "cell_type": "markdown",
   "id": "d561e2b4",
   "metadata": {},
   "source": [
    "# Cluster Profiling"
   ]
  },
  {
   "cell_type": "code",
   "execution_count": 56,
   "id": "777e58b1",
   "metadata": {},
   "outputs": [
    {
     "data": {
      "text/plain": [
       "0    20\n",
       "1    32\n",
       "2    39\n",
       "3    22\n",
       "4    20\n",
       "5    34\n",
       "6    33\n",
       "Name: KMeans_clus_4, dtype: int64"
      ]
     },
     "execution_count": 56,
     "metadata": {},
     "output_type": "execute_result"
    }
   ],
   "source": [
    "df['KMeans_clus_4'].value_counts().sort_index()"
   ]
  },
  {
   "cell_type": "code",
   "execution_count": 57,
   "id": "773bdd05",
   "metadata": {},
   "outputs": [
    {
     "data": {
      "text/html": [
       "<div>\n",
       "<style scoped>\n",
       "    .dataframe tbody tr th:only-of-type {\n",
       "        vertical-align: middle;\n",
       "    }\n",
       "\n",
       "    .dataframe tbody tr th {\n",
       "        vertical-align: top;\n",
       "    }\n",
       "\n",
       "    .dataframe thead th {\n",
       "        text-align: right;\n",
       "    }\n",
       "</style>\n",
       "<table border=\"1\" class=\"dataframe\">\n",
       "  <thead>\n",
       "    <tr style=\"text-align: right;\">\n",
       "      <th></th>\n",
       "      <th>Age</th>\n",
       "      <th>Annual Income (k$)</th>\n",
       "      <th>Spending Score (1-100)</th>\n",
       "      <th>sil_width</th>\n",
       "      <th>Freq</th>\n",
       "    </tr>\n",
       "    <tr>\n",
       "      <th>KMeans_clus_4</th>\n",
       "      <th></th>\n",
       "      <th></th>\n",
       "      <th></th>\n",
       "      <th></th>\n",
       "      <th></th>\n",
       "    </tr>\n",
       "  </thead>\n",
       "  <tbody>\n",
       "    <tr>\n",
       "      <th>0</th>\n",
       "      <td>64.850000</td>\n",
       "      <td>53.150000</td>\n",
       "      <td>49.850000</td>\n",
       "      <td>0.527528</td>\n",
       "      <td>20</td>\n",
       "    </tr>\n",
       "    <tr>\n",
       "      <th>1</th>\n",
       "      <td>41.000000</td>\n",
       "      <td>89.406250</td>\n",
       "      <td>15.593750</td>\n",
       "      <td>0.296962</td>\n",
       "      <td>32</td>\n",
       "    </tr>\n",
       "    <tr>\n",
       "      <th>2</th>\n",
       "      <td>32.692308</td>\n",
       "      <td>86.538462</td>\n",
       "      <td>82.128205</td>\n",
       "      <td>0.505472</td>\n",
       "      <td>39</td>\n",
       "    </tr>\n",
       "    <tr>\n",
       "      <th>3</th>\n",
       "      <td>25.272727</td>\n",
       "      <td>25.727273</td>\n",
       "      <td>79.363636</td>\n",
       "      <td>0.522807</td>\n",
       "      <td>22</td>\n",
       "    </tr>\n",
       "    <tr>\n",
       "      <th>4</th>\n",
       "      <td>45.400000</td>\n",
       "      <td>25.650000</td>\n",
       "      <td>18.550000</td>\n",
       "      <td>0.267301</td>\n",
       "      <td>20</td>\n",
       "    </tr>\n",
       "    <tr>\n",
       "      <th>5</th>\n",
       "      <td>47.382353</td>\n",
       "      <td>56.882353</td>\n",
       "      <td>47.088235</td>\n",
       "      <td>0.367507</td>\n",
       "      <td>34</td>\n",
       "    </tr>\n",
       "    <tr>\n",
       "      <th>6</th>\n",
       "      <td>24.575758</td>\n",
       "      <td>54.545455</td>\n",
       "      <td>49.181818</td>\n",
       "      <td>0.439563</td>\n",
       "      <td>33</td>\n",
       "    </tr>\n",
       "  </tbody>\n",
       "</table>\n",
       "</div>"
      ],
      "text/plain": [
       "                     Age  Annual Income (k$)  Spending Score (1-100)  \\\n",
       "KMeans_clus_4                                                          \n",
       "0              64.850000           53.150000               49.850000   \n",
       "1              41.000000           89.406250               15.593750   \n",
       "2              32.692308           86.538462               82.128205   \n",
       "3              25.272727           25.727273               79.363636   \n",
       "4              45.400000           25.650000               18.550000   \n",
       "5              47.382353           56.882353               47.088235   \n",
       "6              24.575758           54.545455               49.181818   \n",
       "\n",
       "               sil_width  Freq  \n",
       "KMeans_clus_4                   \n",
       "0               0.527528    20  \n",
       "1               0.296962    32  \n",
       "2               0.505472    39  \n",
       "3               0.522807    22  \n",
       "4               0.267301    20  \n",
       "5               0.367507    34  \n",
       "6               0.439563    33  "
      ]
     },
     "execution_count": 57,
     "metadata": {},
     "output_type": "execute_result"
    }
   ],
   "source": [
    "clust_pro=df.iloc[:,1:6].groupby('KMeans_clus_4').mean()\n",
    "clust_pro['Freq']=df['KMeans_clus_4'].value_counts().sort_index()\n",
    "clust_pro"
   ]
  }
 ],
 "metadata": {
  "kernelspec": {
   "display_name": "Python 3 (ipykernel)",
   "language": "python",
   "name": "python3"
  },
  "language_info": {
   "codemirror_mode": {
    "name": "ipython",
    "version": 3
   },
   "file_extension": ".py",
   "mimetype": "text/x-python",
   "name": "python",
   "nbconvert_exporter": "python",
   "pygments_lexer": "ipython3",
   "version": "3.9.13"
  }
 },
 "nbformat": 4,
 "nbformat_minor": 5
}
